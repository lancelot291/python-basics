{
 "cells": [
  {
   "cell_type": "code",
   "execution_count": 1,
   "metadata": {},
   "outputs": [
    {
     "name": "stdout",
     "output_type": "stream",
     "text": [
      "[1, 2, 3, 4]\n",
      "[1, 2, 3, 4, [5, 6]]\n"
     ]
    }
   ],
   "source": [
    "numbers = [1, 2, 3]\n",
    "numbers.append(4)  # Adding a single element\n",
    "print(numbers)  # Output: [1, 2, 3, 4]\n",
    "\n",
    "numbers.append([5, 6])  # Adding a list (nested)\n",
    "print(numbers)  # Output: [1, 2, 3, 4, [5, 6]]"
   ]
  },
  {
   "cell_type": "code",
   "execution_count": 2,
   "metadata": {},
   "outputs": [
    {
     "name": "stdout",
     "output_type": "stream",
     "text": [
      "[1, 2, 3, 4, [5, 6], 4, 5]\n",
      "[1, 2, 3, 4, [5, 6], 4, 5, 'a', 'b', 'c']\n"
     ]
    }
   ],
   "source": [
    "umbers = [1, 2, 3]\n",
    "numbers.extend([4, 5])  # Adding elements from another list\n",
    "print(numbers)  # Output: [1, 2, 3, 4, 5]\n",
    "\n",
    "numbers.extend(\"abc\")  # Adding characters from a string\n",
    "print(numbers)  # Output: [1, 2, 3, 4, 5, 'a', 'b', 'c']"
   ]
  },
  {
   "cell_type": "code",
   "execution_count": null,
   "metadata": {},
   "outputs": [],
   "source": []
  }
 ],
 "metadata": {
  "kernelspec": {
   "display_name": "Python 3",
   "language": "python",
   "name": "python3"
  },
  "language_info": {
   "codemirror_mode": {
    "name": "ipython",
    "version": 3
   },
   "file_extension": ".py",
   "mimetype": "text/x-python",
   "name": "python",
   "nbconvert_exporter": "python",
   "pygments_lexer": "ipython3",
   "version": "3.12.8"
  }
 },
 "nbformat": 4,
 "nbformat_minor": 2
}
