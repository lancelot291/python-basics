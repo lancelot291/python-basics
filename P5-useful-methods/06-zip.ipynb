{
 "cells": [
  {
   "cell_type": "code",
   "execution_count": 1,
   "metadata": {},
   "outputs": [
    {
     "name": "stdout",
     "output_type": "stream",
     "text": [
      "[('Alice', 25), ('Bob', 30), ('Charlie', 35)]\n",
      "<class 'tuple'>\n",
      "Alice is 25 years old.\n",
      "Bob is 30 years old.\n",
      "Charlie is 35 years old.\n"
     ]
    }
   ],
   "source": [
    "\"\"\"\n",
    "5a. zip()\n",
    "\n",
    "  zip(iterable1, iterable2, ...)\n",
    "\n",
    "\"\"\"\n",
    "\n",
    "names = [\"Alice\", \"Bob\", \"Charlie\"]\n",
    "ages = [25, 30, 35]\n",
    "\n",
    "zipped = list(zip(names, ages))\n",
    "#print(zip(names, ages))\n",
    "print(zipped)\n",
    "\n",
    "print(type(zipped[0]))\n",
    "\n",
    "# using for loop with zip\n",
    "for name, age in zip(names, ages):\n",
    "    print(f\"{name} is {age} years old.\")\n",
    "\n"
   ]
  },
  {
   "cell_type": "code",
   "execution_count": 2,
   "metadata": {},
   "outputs": [
    {
     "name": "stdout",
     "output_type": "stream",
     "text": [
      "[('Alice', 25, 'New York'), ('Bob', 30, 'Los Angeles'), ('Charlie', 35, 'San Francisco')]\n"
     ]
    }
   ],
   "source": [
    "\"\"\"\n",
    "\n",
    "5b.Using zip() with Three or More Iterables\n",
    "\n",
    "\"\"\"\n",
    "\n",
    "names = [\"Alice\", \"Bob\", \"Charlie\"]\n",
    "ages = [25, 30, 35]\n",
    "cities = [\"New York\", \"Los Angeles\", \"San Francisco\"]\n",
    "\n",
    "zipped = zip(names, ages, cities)\n",
    "print(list(zipped))"
   ]
  },
  {
   "cell_type": "code",
   "execution_count": 3,
   "metadata": {},
   "outputs": [
    {
     "name": "stdout",
     "output_type": "stream",
     "text": [
      "('Alice', 'Bob', 'Charlie')\n",
      "(25, 30, 35)\n",
      "('New York', 'Los Angeles', 'San Francisco')\n"
     ]
    }
   ],
   "source": [
    "\"\"\"\n",
    "\n",
    "5c. Unzipping with zip()\n",
    "\n",
    "\"\"\"\n",
    "\n",
    "zipped_list = [('Alice', 25, 'New York'), ('Bob', 30, 'Los Angeles'), ('Charlie', 35, 'San Francisco')]\n",
    "names, ages, cities = zip(*zipped_list)\n",
    "\n",
    "print(names)  # ('Alice', 'Bob', 'Charlie')\n",
    "print(ages)   # (25, 30, 35)\n",
    "print(cities) # ('New York', 'Los Angeles', 'Chicago')\n"
   ]
  },
  {
   "cell_type": "code",
   "execution_count": 4,
   "metadata": {},
   "outputs": [
    {
     "name": "stdout",
     "output_type": "stream",
     "text": [
      "('Alice', 'Bob', 'Charlie')\n",
      "(85, 90, 78)\n"
     ]
    }
   ],
   "source": [
    "\"\"\"\n",
    "5d. Using zip() with dictionaries\n",
    "\"\"\"\n",
    "\n",
    "student_scores = {\"Alice\": 85, \"Bob\": 90, \"Charlie\": 78}\n",
    "names, scores = zip(*student_scores.items())\n",
    "\n",
    "print(names)   # ('Alice', 'Bob', 'Charlie')\n",
    "print(scores)  # (85, 90, 78)"
   ]
  },
  {
   "cell_type": "code",
   "execution_count": null,
   "metadata": {},
   "outputs": [],
   "source": []
  }
 ],
 "metadata": {
  "kernelspec": {
   "display_name": "Python 3",
   "language": "python",
   "name": "python3"
  },
  "language_info": {
   "codemirror_mode": {
    "name": "ipython",
    "version": 3
   },
   "file_extension": ".py",
   "mimetype": "text/x-python",
   "name": "python",
   "nbconvert_exporter": "python",
   "pygments_lexer": "ipython3",
   "version": "3.12.8"
  }
 },
 "nbformat": 4,
 "nbformat_minor": 2
}
