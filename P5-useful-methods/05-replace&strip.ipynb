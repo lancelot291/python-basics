{
 "cells": [
  {
   "cell_type": "code",
   "execution_count": 1,
   "metadata": {},
   "outputs": [
    {
     "name": "stdout",
     "output_type": "stream",
     "text": [
      "Hello Earth, Earth is beautiful!\n",
      "Hello Earth, world is beautiful!\n"
     ]
    }
   ],
   "source": [
    "\"\"\"\n",
    "2. replace()\n",
    "\n",
    "  string.replace(old, new, count)\n",
    "\n",
    "\"\"\"\n",
    "\n",
    "text = \"Hello world, world is beautiful!\"\n",
    "new_text = text.replace(\"world\", \"Earth\")\n",
    "print(new_text)\n",
    "# Output: \"Hello Earth, Earth is beautiful!\"\n",
    "\n",
    "text_2 = \"Hello world, world is beautiful!\"\n",
    "\n",
    "# Replacing only the first occurrence\n",
    "limited_text = text_2.replace(\"world\", \"Earth\", 1)\n",
    "print(limited_text)\n",
    "# Output: \"Hello Earth, world is beautiful!\""
   ]
  },
  {
   "cell_type": "code",
   "execution_count": 2,
   "metadata": {},
   "outputs": [
    {
     "name": "stdout",
     "output_type": "stream",
     "text": [
      "Hello World!\n",
      "Hello World\n",
      "Hello World!   \n",
      "   Hello World!\n"
     ]
    }
   ],
   "source": [
    "\"\"\"\"\n",
    "3. strip()\n",
    "\n",
    "    string.strip(characters)\n",
    "\"\"\"\n",
    "\n",
    "text = \"   Hello World!   \"\n",
    "cleaned_text = text.strip()\n",
    "print(cleaned_text)\n",
    "# Output: \"Hello World!\"\n",
    "\n",
    "# Removing specific characters\n",
    "text_with_symbols = \"***Hello World!!!***\"\n",
    "cleaned_symbols = text_with_symbols.strip(\"*!\")\n",
    "print(cleaned_symbols)\n",
    "# Output: \"Hello World\"\n",
    "\n",
    "# Using `lstrip()` and `rstrip()` to remove only from left or right\n",
    "left_stripped = text.lstrip()\n",
    "right_stripped = text.rstrip()\n",
    "print(left_stripped)  # \"Hello World!   \"\n",
    "print(right_stripped) # \"   Hello World!\""
   ]
  },
  {
   "cell_type": "code",
   "execution_count": 3,
   "metadata": {},
   "outputs": [
    {
     "name": "stdout",
     "output_type": "stream",
     "text": [
      "Hello, Earth! Earth!\n"
     ]
    }
   ],
   "source": [
    "\"\"\"\"\n",
    "4. using replace and strip together\n",
    "\"\"\"\n",
    "\n",
    "raw_text = \"   Hello, world! world!   \"\n",
    "cleaned_text = raw_text.strip().replace(\"world\", \"Earth\")\n",
    "print(cleaned_text)\n",
    "# Output: \"Hello, Earth! Earth!\""
   ]
  },
  {
   "cell_type": "code",
   "execution_count": null,
   "metadata": {},
   "outputs": [],
   "source": []
  }
 ],
 "metadata": {
  "kernelspec": {
   "display_name": "Python 3",
   "language": "python",
   "name": "python3"
  },
  "language_info": {
   "codemirror_mode": {
    "name": "ipython",
    "version": 3
   },
   "file_extension": ".py",
   "mimetype": "text/x-python",
   "name": "python",
   "nbconvert_exporter": "python",
   "pygments_lexer": "ipython3",
   "version": "3.12.8"
  }
 },
 "nbformat": 4,
 "nbformat_minor": 2
}
