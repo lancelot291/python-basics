{
 "cells": [
  {
   "cell_type": "code",
   "execution_count": 1,
   "metadata": {},
   "outputs": [
    {
     "name": "stdout",
     "output_type": "stream",
     "text": [
      "{'dave', 'charlie', 'alice'}\n"
     ]
    }
   ],
   "source": [
    "# lamnbda functions\n",
    "# number 74\n",
    "\n",
    "id_list = [\"alice\", \"bob\", \"charlie\", \"dave\"]\n",
    "report_count = {\n",
    "    \"alice\": 3,\n",
    "    \"bob\": 1,\n",
    "    \"charlie\": 5,\n",
    "    \"dave\": 2\n",
    "}\n",
    "k = 2\n",
    "\n",
    "suspended_users = set(filter(lambda user: report_count[user] >= k, id_list))\n",
    "\n",
    "print(suspended_users)"
   ]
  },
  {
   "cell_type": "code",
   "execution_count": 2,
   "metadata": {},
   "outputs": [
    {
     "name": "stdout",
     "output_type": "stream",
     "text": [
      "[1, 2, 3, 4, 5]\n"
     ]
    }
   ],
   "source": [
    "# MAP_1\n",
    "\n",
    "# List of numbers as strings\n",
    "numbers_str = [\"1\", \"2\", \"3\", \"4\", \"5\"]\n",
    "\n",
    "# Convert each string to an integer using map()\n",
    "numbers_int = list(map(int, numbers_str))\n",
    "\n",
    "print(numbers_int)  # Output: [1, 2, 3, 4, 5]"
   ]
  },
  {
   "cell_type": "code",
   "execution_count": 3,
   "metadata": {},
   "outputs": [
    {
     "name": "stdout",
     "output_type": "stream",
     "text": [
      "[1, 4, 9, 16, 25]\n"
     ]
    }
   ],
   "source": [
    "# MAP_2\n",
    "\n",
    "# List of numbers\n",
    "numbers = [1, 2, 3, 4, 5]\n",
    "\n",
    "# Use map() with a lambda function to square each number\n",
    "squared_numbers = list(map(lambda x: x ** 2, numbers))\n",
    "\n",
    "print(squared_numbers)  # Output: [1, 4, 9, 16, 25]"
   ]
  },
  {
   "cell_type": "code",
   "execution_count": 4,
   "metadata": {},
   "outputs": [
    {
     "name": "stdout",
     "output_type": "stream",
     "text": [
      "['HELLO', 'WORLD', 'PYTHON']\n"
     ]
    }
   ],
   "source": [
    "# MAP_3\n",
    "\n",
    "# List of words\n",
    "words = [\"hello\", \"world\", \"python\"]\n",
    "\n",
    "# Convert each word to uppercase\n",
    "uppercase_words = list(map(str.upper, words))\n",
    "\n",
    "print(uppercase_words)  # Output: ['HELLO', 'WORLD', 'PYTHON']"
   ]
  },
  {
   "cell_type": "code",
   "execution_count": 5,
   "metadata": {},
   "outputs": [
    {
     "name": "stdout",
     "output_type": "stream",
     "text": [
      "9534330\n"
     ]
    }
   ],
   "source": [
    "def solution(numbers):\n",
    "    str_numbers = list(map(str, numbers))\n",
    "    str_numbers.sort(key=lambda x: x * 3, reverse=True)\n",
    "    \n",
    "    answer = \"\".join(str_numbers)\n",
    "    return answer if int(answer) != 0 else \"0\"\n",
    "    \n",
    "    \n",
    "    \n",
    "\n",
    "\n",
    "# Test cases\n",
    "numbers = [3, 30, 34, 5, 9]\n",
    "print(solution(numbers))  # Output: \"6210\""
   ]
  },
  {
   "cell_type": "code",
   "execution_count": null,
   "metadata": {},
   "outputs": [],
   "source": []
  }
 ],
 "metadata": {
  "kernelspec": {
   "display_name": "Python 3",
   "language": "python",
   "name": "python3"
  },
  "language_info": {
   "codemirror_mode": {
    "name": "ipython",
    "version": 3
   },
   "file_extension": ".py",
   "mimetype": "text/x-python",
   "name": "python",
   "nbconvert_exporter": "python",
   "pygments_lexer": "ipython3",
   "version": "3.12.8"
  }
 },
 "nbformat": 4,
 "nbformat_minor": 2
}
